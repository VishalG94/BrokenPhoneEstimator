{
 "cells": [
  {
   "cell_type": "code",
   "execution_count": 100,
   "metadata": {
    "scrolled": true
   },
   "outputs": [],
   "source": [
    "\n",
    "import numpy as np # linear algebra\n",
    "import pandas as pd # data processing, CSV file I/O (e.g. pd.read_csv)\n",
    "import os\n",
    "#print(os.listdir(\"../input\"))\n",
    "# Any results you write to the current directory are saved as output.\n",
    "from keras.applications.vgg16 import VGG16\n",
    "from keras.preprocessing import image\n",
    "from keras.applications.vgg16 import preprocess_input\n",
    "from keras.layers import Input, Flatten, Dense\n",
    "from keras.models import Model\n",
    "import glob\n",
    "from scipy import misc\n",
    "import tensorflow as tf\n",
    "import numpy as np\n",
    "from keras.callbacks import ModelCheckpoint\n",
    "import matplotlib.pyplot as plt\n",
    "import matplotlib.image as mpimg\n",
    "from keras.layers import Dense, Activation, Dropout, Flatten,\\\n",
    " Conv2D, MaxPooling2D\n",
    "from keras.layers.normalization import BatchNormalization\n",
    "from keras.models import Sequential\n",
    "from keras.optimizers import Adam \n",
    "\n",
    "#Get back the convolutional part of a VGG network trained on ImageNet"
   ]
  },
  {
   "cell_type": "code",
   "execution_count": 130,
   "metadata": {},
   "outputs": [],
   "source": [
    "\n",
    "model = Sequential()\n",
    "# 1st Convolutional Layer\n",
    "model.add(Conv2D(filters=96, input_shape=(224,224,3), kernel_size=(11,11),\n",
    " strides=(4,4), padding='valid'))\n",
    "model.add(Activation('relu'))\n",
    "# Pooling\n",
    "model.add(MaxPooling2D(pool_size=(2,2), strides=(2,2), padding='valid'))\n",
    "# Batch Normalisation before passing it to the next layer\n",
    "model.add(BatchNormalization())"
   ]
  },
  {
   "cell_type": "code",
   "execution_count": 102,
   "metadata": {},
   "outputs": [],
   "source": [
    "# 2nd Convolutional Layer\n",
    "model.add(Conv2D(filters=256, kernel_size=(11,11), strides=(1,1), padding='valid'))\n",
    "model.add(Activation('relu'))\n",
    "# Pooling\n",
    "model.add(MaxPooling2D(pool_size=(2,2), strides=(2,2), padding='valid'))\n",
    "# Batch Normalisation\n",
    "model.add(BatchNormalization())"
   ]
  },
  {
   "cell_type": "code",
   "execution_count": 103,
   "metadata": {},
   "outputs": [],
   "source": [
    "# 3rd Convolutional Layer\n",
    "model.add(Conv2D(filters=384, kernel_size=(3,3), strides=(1,1), padding='valid'))\n",
    "model.add(Activation('relu'))\n",
    "# Batch Normalisation\n",
    "model.add(BatchNormalization())\n"
   ]
  },
  {
   "cell_type": "code",
   "execution_count": 104,
   "metadata": {},
   "outputs": [],
   "source": [
    "# 4th Convolutional Layer\n",
    "model.add(Conv2D(filters=384, kernel_size=(3,3), strides=(1,1), padding='valid'))\n",
    "model.add(Activation('relu'))\n",
    "# Batch Normalisation\n",
    "model.add(BatchNormalization())\n"
   ]
  },
  {
   "cell_type": "code",
   "execution_count": 105,
   "metadata": {},
   "outputs": [],
   "source": [
    "# 5th Convolutional Layer\n",
    "model.add(Conv2D(filters=256, kernel_size=(3,3), strides=(1,1), padding='valid'))\n",
    "model.add(Activation('relu'))\n",
    "# Pooling\n",
    "model.add(MaxPooling2D(pool_size=(2,2), strides=(2,2), padding='valid'))\n",
    "# Batch Normalisation\n",
    "model.add(BatchNormalization())"
   ]
  },
  {
   "cell_type": "code",
   "execution_count": 106,
   "metadata": {},
   "outputs": [],
   "source": [
    "# Passing it to a dense layer\n",
    "model.add(Flatten())\n",
    "# 1st Dense Layer\n",
    "model.add(Dense(4096, input_shape=(224*224*3,)))\n",
    "model.add(Activation('relu'))\n",
    "# Add Dropout to prevent overfitting\n",
    "model.add(Dropout(0.4))\n",
    "# Batch Normalisation\n",
    "model.add(BatchNormalization())\n"
   ]
  },
  {
   "cell_type": "code",
   "execution_count": 107,
   "metadata": {},
   "outputs": [],
   "source": [
    "# 2nd Dense Layer\n",
    "model.add(Dense(4096))\n",
    "model.add(Activation('relu'))\n",
    "# Add Dropout\n",
    "model.add(Dropout(0.4))\n",
    "# Batch Normalisation\n",
    "model.add(BatchNormalization())\n"
   ]
  },
  {
   "cell_type": "code",
   "execution_count": 108,
   "metadata": {},
   "outputs": [],
   "source": [
    "# 3rd Dense Layer\n",
    "model.add(Dense(1000))\n",
    "model.add(Activation('relu'))\n",
    "# Add Dropout\n",
    "model.add(Dropout(0.4))\n",
    "# Batch Normalisation\n",
    "model.add(BatchNormalization())\n"
   ]
  },
  {
   "cell_type": "code",
   "execution_count": 109,
   "metadata": {},
   "outputs": [],
   "source": [
    "# Output Layer\n",
    "model.add(Dense(units=4))\n",
    "model.add(Activation('softmax'))\n",
    "\n",
    "batch_size = 4\n",
    "\n",
    "# this is the augmentation configuration we will use for training\n",
    "train_datagen = image.ImageDataGenerator(\n",
    "    rotation_range=20,\n",
    "    width_shift_range=0.2,\n",
    "    height_shift_range=0.2,\n",
    "    horizontal_flip=True)\n",
    "\n",
    "# this is the augmentation configuration we will use for testing:\n",
    "# only rescaling\n",
    "test_datagen = image.ImageDataGenerator()\n"
   ]
  },
  {
   "cell_type": "code",
   "execution_count": 122,
   "metadata": {
    "scrolled": true
   },
   "outputs": [
    {
     "name": "stdout",
     "output_type": "stream",
     "text": [
      "Found 139 images belonging to 4 classes.\n",
      "Found 52 images belonging to 4 classes.\n",
      "Found 12 images belonging to 1 classes.\n"
     ]
    }
   ],
   "source": [
    "\n",
    "# this is a generator that will read pictures found in\n",
    "# subfolers of 'data/train', and indefinitely generate\n",
    "# batches of augmented image data\n",
    "class_names = ['0','1','2','3']\n",
    "train_generator = train_datagen.flow_from_directory(\n",
    "        \"./Images/Percentages_Set/Training\",  # this is the target directory\n",
    "        target_size=(224, 224),  # all images will be resized to 150x150\n",
    "        batch_size=batch_size,\n",
    "          class_mode='categorical',\n",
    "       )  # since we use binary_crossentropy loss, we need binary labels\n",
    "\n",
    "# # this is a similar generator, for validation data\n",
    "validation_generator = test_datagen.flow_from_directory(\n",
    "          \"./Images/Percentages_Set/Validation\",\n",
    "          target_size=(224, 224),\n",
    "          class_mode='categorical',\n",
    "          batch_size=batch_size,\n",
    "         )\n",
    "\n",
    "test_generator = test_datagen.flow_from_directory(\n",
    "          \"./Images/Percentages_Set/Test\",\n",
    "          target_size=(224, 224),\n",
    "          batch_size=1,\n",
    "          class_mode=None,\n",
    "          shuffle='False'\n",
    "            )\n",
    "\n"
   ]
  },
  {
   "cell_type": "code",
   "execution_count": 123,
   "metadata": {},
   "outputs": [
    {
     "name": "stdout",
     "output_type": "stream",
     "text": [
      "{'Crack0': 0, 'Crack1': 1, 'Crack2': 2, 'Non Crack': 3}\n"
     ]
    }
   ],
   "source": [
    "print(validation_generator.class_indices)"
   ]
  },
  {
   "cell_type": "code",
   "execution_count": 124,
   "metadata": {
    "scrolled": true
   },
   "outputs": [
    {
     "name": "stdout",
     "output_type": "stream",
     "text": [
      "Epoch 1/50\n",
      "15/15 [==============================] - 30s 2s/step - loss: 1.8640 - acc: 0.2667 - val_loss: 9.2758 - val_acc: 0.3000\n",
      "Epoch 2/50\n",
      "15/15 [==============================] - 19s 1s/step - loss: 1.8262 - acc: 0.2333 - val_loss: 7.3788 - val_acc: 0.4500\n",
      "Epoch 3/50\n",
      "15/15 [==============================] - 19s 1s/step - loss: 1.7785 - acc: 0.2774 - val_loss: 6.4749 - val_acc: 0.5500\n",
      "Epoch 4/50\n",
      "15/15 [==============================] - 17s 1s/step - loss: 1.8733 - acc: 0.2167 - val_loss: 7.1122 - val_acc: 0.4750\n",
      "Epoch 5/50\n",
      "15/15 [==============================] - 17s 1s/step - loss: 1.8681 - acc: 0.2669 - val_loss: 5.4545 - val_acc: 0.5375\n",
      "Epoch 6/50\n",
      "15/15 [==============================] - 18s 1s/step - loss: 1.6819 - acc: 0.3000 - val_loss: 6.5448 - val_acc: 0.4500\n",
      "Epoch 7/50\n",
      "15/15 [==============================] - 18s 1s/step - loss: 1.7384 - acc: 0.2669 - val_loss: 1.7558 - val_acc: 0.5375\n",
      "Epoch 8/50\n",
      "15/15 [==============================] - 21s 1s/step - loss: 1.7184 - acc: 0.3167 - val_loss: 6.7727 - val_acc: 0.5125\n",
      "Epoch 9/50\n",
      "15/15 [==============================] - 20s 1s/step - loss: 1.6555 - acc: 0.2167 - val_loss: 8.4180 - val_acc: 0.2875\n",
      "Epoch 10/50\n",
      "15/15 [==============================] - 20s 1s/step - loss: 1.6783 - acc: 0.2607 - val_loss: 4.0149 - val_acc: 0.5375\n",
      "Epoch 11/50\n",
      "15/15 [==============================] - 20s 1s/step - loss: 1.5647 - acc: 0.3000 - val_loss: 4.4608 - val_acc: 0.5875\n",
      "Epoch 12/50\n",
      "15/15 [==============================] - 20s 1s/step - loss: 1.5996 - acc: 0.3441 - val_loss: 4.0838 - val_acc: 0.5375\n",
      "Epoch 13/50\n",
      "15/15 [==============================] - 20s 1s/step - loss: 1.5119 - acc: 0.3000 - val_loss: 4.9140 - val_acc: 0.5250\n",
      "Epoch 14/50\n",
      "15/15 [==============================] - 20s 1s/step - loss: 1.4692 - acc: 0.3170 - val_loss: 4.9584 - val_acc: 0.5125\n",
      "Epoch 15/50\n",
      "15/15 [==============================] - 20s 1s/step - loss: 1.4661 - acc: 0.3833 - val_loss: 4.7977 - val_acc: 0.5500\n",
      "Epoch 16/50\n",
      "15/15 [==============================] - 23s 2s/step - loss: 1.6381 - acc: 0.2667 - val_loss: 3.5038 - val_acc: 0.5000\n",
      "Epoch 17/50\n",
      "15/15 [==============================] - 19s 1s/step - loss: 1.5343 - acc: 0.3337 - val_loss: 5.4539 - val_acc: 0.4875\n",
      "Epoch 18/50\n",
      "15/15 [==============================] - 20s 1s/step - loss: 1.3767 - acc: 0.4500 - val_loss: 4.8335 - val_acc: 0.5250\n",
      "Epoch 19/50\n",
      "15/15 [==============================] - 21s 1s/step - loss: 1.5330 - acc: 0.2002 - val_loss: 3.7048 - val_acc: 0.3500\n",
      "Epoch 20/50\n",
      "15/15 [==============================] - 19s 1s/step - loss: 1.4572 - acc: 0.4167 - val_loss: 4.3096 - val_acc: 0.4500\n",
      "Epoch 21/50\n",
      "15/15 [==============================] - 19s 1s/step - loss: 1.6386 - acc: 0.3837 - val_loss: 2.4837 - val_acc: 0.6750\n",
      "Epoch 22/50\n",
      "15/15 [==============================] - 21s 1s/step - loss: 1.5481 - acc: 0.3500 - val_loss: 2.7068 - val_acc: 0.5500\n",
      "Epoch 23/50\n",
      "15/15 [==============================] - 21s 1s/step - loss: 1.6071 - acc: 0.3500 - val_loss: 2.8321 - val_acc: 0.5250\n",
      "Epoch 24/50\n",
      "15/15 [==============================] - 21s 1s/step - loss: 1.5692 - acc: 0.3671 - val_loss: 2.2203 - val_acc: 0.5125\n",
      "Epoch 25/50\n",
      "15/15 [==============================] - 21s 1s/step - loss: 1.4393 - acc: 0.3833 - val_loss: 2.6231 - val_acc: 0.5375\n",
      "Epoch 26/50\n",
      "15/15 [==============================] - 20s 1s/step - loss: 1.6979 - acc: 0.3337 - val_loss: 3.4870 - val_acc: 0.5500\n",
      "Epoch 27/50\n",
      "15/15 [==============================] - 20s 1s/step - loss: 1.7662 - acc: 0.2500 - val_loss: 1.7994 - val_acc: 0.4875\n",
      "Epoch 28/50\n",
      "15/15 [==============================] - 20s 1s/step - loss: 1.6485 - acc: 0.3504 - val_loss: 4.2077 - val_acc: 0.4875\n",
      "Epoch 29/50\n",
      "15/15 [==============================] - 20s 1s/step - loss: 1.6196 - acc: 0.2667 - val_loss: 2.9541 - val_acc: 0.5250\n",
      "Epoch 30/50\n",
      "15/15 [==============================] - 20s 1s/step - loss: 1.6149 - acc: 0.3000 - val_loss: 1.9567 - val_acc: 0.5750\n",
      "Epoch 31/50\n",
      "15/15 [==============================] - 20s 1s/step - loss: 1.2323 - acc: 0.4171 - val_loss: 1.6707 - val_acc: 0.6000\n",
      "Epoch 32/50\n",
      "15/15 [==============================] - 21s 1s/step - loss: 1.4243 - acc: 0.3333 - val_loss: 2.8368 - val_acc: 0.5500\n",
      "Epoch 33/50\n",
      "15/15 [==============================] - 20s 1s/step - loss: 1.3408 - acc: 0.3723 - val_loss: 4.9705 - val_acc: 0.4625\n",
      "Epoch 34/50\n",
      "15/15 [==============================] - 21s 1s/step - loss: 1.6021 - acc: 0.3833 - val_loss: 4.5155 - val_acc: 0.4500\n",
      "Epoch 35/50\n",
      "15/15 [==============================] - 17s 1s/step - loss: 1.6186 - acc: 0.3608 - val_loss: 3.8360 - val_acc: 0.4875\n",
      "Epoch 36/50\n",
      "15/15 [==============================] - 18s 1s/step - loss: 1.4690 - acc: 0.3667 - val_loss: 4.9309 - val_acc: 0.5375\n",
      "Epoch 37/50\n",
      "15/15 [==============================] - 18s 1s/step - loss: 1.6224 - acc: 0.3333 - val_loss: 3.3372 - val_acc: 0.4750\n",
      "Epoch 38/50\n",
      "15/15 [==============================] - 17s 1s/step - loss: 1.5195 - acc: 0.3942 - val_loss: 2.8697 - val_acc: 0.5125\n",
      "Epoch 39/50\n",
      "15/15 [==============================] - 17s 1s/step - loss: 1.4355 - acc: 0.3333 - val_loss: 2.7741 - val_acc: 0.5250\n",
      "Epoch 40/50\n",
      "15/15 [==============================] - 18s 1s/step - loss: 1.4308 - acc: 0.3723 - val_loss: 3.0060 - val_acc: 0.5750\n",
      "Epoch 41/50\n",
      "15/15 [==============================] - 17s 1s/step - loss: 1.3998 - acc: 0.4167 - val_loss: 2.6963 - val_acc: 0.5625\n",
      "Epoch 42/50\n",
      "15/15 [==============================] - 17s 1s/step - loss: 1.5191 - acc: 0.3170 - val_loss: 2.3661 - val_acc: 0.6000\n",
      "Epoch 43/50\n",
      "15/15 [==============================] - 18s 1s/step - loss: 1.2992 - acc: 0.4167 - val_loss: 3.8893 - val_acc: 0.5250\n",
      "Epoch 44/50\n",
      "15/15 [==============================] - 17s 1s/step - loss: 1.4660 - acc: 0.3667 - val_loss: 3.3563 - val_acc: 0.5625\n",
      "Epoch 45/50\n",
      "15/15 [==============================] - 17s 1s/step - loss: 1.4018 - acc: 0.3170 - val_loss: 3.5456 - val_acc: 0.4875\n",
      "Epoch 46/50\n",
      "15/15 [==============================] - 18s 1s/step - loss: 1.7005 - acc: 0.3000 - val_loss: 2.0357 - val_acc: 0.5625\n",
      "Epoch 47/50\n",
      "15/15 [==============================] - 17s 1s/step - loss: 1.5342 - acc: 0.3775 - val_loss: 1.6759 - val_acc: 0.5750\n",
      "Epoch 48/50\n",
      "15/15 [==============================] - 18s 1s/step - loss: 1.5032 - acc: 0.4500 - val_loss: 2.8009 - val_acc: 0.5000\n",
      "Epoch 49/50\n",
      "15/15 [==============================] - 17s 1s/step - loss: 1.3866 - acc: 0.4505 - val_loss: 2.7588 - val_acc: 0.5375\n",
      "Epoch 50/50\n",
      "15/15 [==============================] - 18s 1s/step - loss: 1.6296 - acc: 0.3000 - val_loss: 1.5283 - val_acc: 0.6000\n"
     ]
    },
    {
     "data": {
      "image/png": "[encoded data removed]",
      "text/plain": [
       "<Figure size 432x288 with 1 Axes>"
      ]
     },
     "metadata": {
      "needs_background": "light"
     },
     "output_type": "display_data"
    }
   ],
   "source": [
    "\n",
    "\n",
    "model.compile(optimizer=Adam(),\n",
    "              loss='categorical_crossentropy',\n",
    "              metrics=['accuracy'])\n",
    "# filepath=\"weights-improvement-{epoch:02d}-{val_acc:.2f}.hdf5\"\n",
    "# checkpoint = ModelCheckpoint(filepath, monitor='val_acc', verbose=1, save_best_only=True, mode='max')\n",
    "filepath=\"weights.best.hdf5_2\"\n",
    "checkpoint = ModelCheckpoint(filepath, monitor='val_acc', verbose=2, save_best_only=True, mode='max')\n",
    "callbacks_list = [checkpoint]\n",
    "#history = model.fit_generator(train_generator, epochs=10, steps_per_epoch=5, verbose=1,callbacks=callbacks_list, validation_data=validation_generator, validation_steps=5) #epochs=50, steps=2000\n",
    "STEP_SIZE_TRAIN=train_generator.n//train_generator.batch_size\n",
    "STEP_SIZE_VALID=validation_generator.n//validation_generator.batch_size\n",
    "history =model.fit_generator(generator=train_generator,\n",
    "                    steps_per_epoch=15,\n",
    "                    validation_data=validation_generator,\n",
    "                    validation_steps=20,\n",
    "                    epochs=50,verbose=1)\n",
    "plt.plot(history.history['acc'])\n",
    "plt.plot(history.history['val_acc'])\n",
    "plt.title('model accuracy')\n",
    "plt.ylabel('accuracy')\n",
    "plt.xlabel('epoch')\n",
    "plt.legend(['train', 'test'], loc='upper left')\n",
    "plt.show()"
   ]
  },
  {
   "cell_type": "code",
   "execution_count": null,
   "metadata": {},
   "outputs": [],
   "source": [
    "#not necessary\n",
    "\n",
    "model.load_weights(\"weights.best.hdf5_2\")\n",
    "prediction = model.predict_generator(test_generator, steps=100, max_queue_size=1, workers=1, use_multiprocessing=False, verbose=1)\n",
    "prediction_net=[]\n",
    "\n"
   ]
  },
  {
   "cell_type": "code",
   "execution_count": 125,
   "metadata": {},
   "outputs": [
    {
     "name": "stdout",
     "output_type": "stream",
     "text": [
      "12/12 [==============================] - 2s 133ms/step\n"
     ]
    }
   ],
   "source": [
    "STEP_SIZE_TEST=test_generator.n//test_generator.batch_size\n",
    "test_generator.reset()\n",
    "pred=model.predict_generator(test_generator,steps=STEP_SIZE_TEST,verbose=1)\n",
    "predicted_class_indices=np.argmax(pred,axis=1)\n"
   ]
  },
  {
   "cell_type": "code",
   "execution_count": 126,
   "metadata": {},
   "outputs": [],
   "source": [
    "labels = (train_generator.class_indices)\n",
    "labels = dict((v,k) for k,v in labels.items())\n",
    "predictions = [labels[k] for k in predicted_class_indices]\n"
   ]
  },
  {
   "cell_type": "code",
   "execution_count": 128,
   "metadata": {},
   "outputs": [],
   "source": [
    "filenames=test_generator.filenames\n",
    "results=pd.DataFrame({\"Filename\":filenames,\n",
    "                      \"Predictions\":predictions})\n",
    "results.to_csv(\"results.csv\",index=True)"
   ]
  },
  {
   "cell_type": "code",
   "execution_count": 129,
   "metadata": {},
   "outputs": [
    {
     "name": "stdout",
     "output_type": "stream",
     "text": [
      "[[2.98504591e-01 1.00333899e-01 1.09887458e-01 4.91274029e-01]\n",
      " [1.11501571e-03 1.19332995e-04 1.17677460e-04 9.98648107e-01]\n",
      " [2.11130064e-02 2.07154662e-03 1.85595045e-03 9.74959493e-01]\n",
      " [6.92605216e-04 1.38489082e-02 2.66069751e-02 9.58851457e-01]\n",
      " [2.68444061e-01 2.93425657e-02 2.80127879e-02 6.74200535e-01]\n",
      " [4.41409737e-01 5.45061417e-02 4.81535383e-02 4.55930620e-01]\n",
      " [4.97603327e-01 6.26912192e-02 5.23695201e-02 3.87335926e-01]\n",
      " [1.33477501e-04 6.92446437e-03 1.28327580e-02 9.80109215e-01]\n",
      " [3.76515347e-03 4.63654957e-04 4.53515182e-04 9.95317698e-01]\n",
      " [2.14451686e-01 1.62827745e-01 5.31417370e-01 9.13032144e-02]\n",
      " [7.15986669e-01 1.03107803e-01 1.08984791e-01 7.19206855e-02]\n",
      " [2.97436774e-01 1.60631239e-01 4.89172727e-01 5.27591705e-02]]\n"
     ]
    }
   ],
   "source": [
    "#Adding regression layer\n",
    "print(pred)\n"
   ]
  },
  {
   "cell_type": "code",
   "execution_count": null,
   "metadata": {},
   "outputs": [],
   "source": []
  },
  {
   "cell_type": "code",
   "execution_count": null,
   "metadata": {},
   "outputs": [],
   "source": []
  }
 ],
 "metadata": {
  "kernelspec": {
   "display_name": "Python 3",
   "language": "python",
   "name": "python3"
  },
  "language_info": {
   "codemirror_mode": {
    "name": "ipython",
    "version": 3
   },
   "file_extension": ".py",
   "mimetype": "text/x-python",
   "name": "python",
   "nbconvert_exporter": "python",
   "pygments_lexer": "ipython3",
   "version": "3.7.3"
  }
 },
 "nbformat": 4,
 "nbformat_minor": 2
}
